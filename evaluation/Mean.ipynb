{
 "cells": [
  {
   "cell_type": "markdown",
   "id": "13365ef9-43ed-474f-b6e0-3270f0c6d50a",
   "metadata": {},
   "source": [
    "### Generate Scores"
   ]
  },
  {
   "cell_type": "code",
   "execution_count": 16,
   "id": "bce2951a-c2b6-4e2f-9276-9759b45ad854",
   "metadata": {},
   "outputs": [
    {
     "name": "stdout",
     "output_type": "stream",
     "text": [
      "Name: neurGrad_Last_diff_min_sd_888_qlora_llama3 : 78.04\n"
     ]
    },
    {
     "data": {
      "text/html": [
       "<div>\n",
       "<style scoped>\n",
       "    .dataframe tbody tr th:only-of-type {\n",
       "        vertical-align: middle;\n",
       "    }\n",
       "\n",
       "    .dataframe tbody tr th {\n",
       "        vertical-align: top;\n",
       "    }\n",
       "\n",
       "    .dataframe thead th {\n",
       "        text-align: right;\n",
       "    }\n",
       "</style>\n",
       "<table border=\"1\" class=\"dataframe\">\n",
       "  <thead>\n",
       "    <tr style=\"text-align: right;\">\n",
       "      <th></th>\n",
       "      <th>5</th>\n",
       "      <th>6</th>\n",
       "      <th>7</th>\n",
       "      <th>8</th>\n",
       "      <th>9</th>\n",
       "      <th>10</th>\n",
       "      <th>11</th>\n",
       "      <th>3</th>\n",
       "      <th>4</th>\n",
       "      <th>0</th>\n",
       "      <th>1</th>\n",
       "      <th>2</th>\n",
       "    </tr>\n",
       "  </thead>\n",
       "  <tbody>\n",
       "    <tr>\n",
       "      <th>task</th>\n",
       "      <td>NER_ACE05</td>\n",
       "      <td>NER_BC5CDR</td>\n",
       "      <td>NER_CoNLL03</td>\n",
       "      <td>NER_DIANN</td>\n",
       "      <td>NER_NCBIDisease</td>\n",
       "      <td>NER_OntoNotes5</td>\n",
       "      <td>NER_WNUT2017</td>\n",
       "      <td>RE_ACE05</td>\n",
       "      <td>RE_CoNLL04</td>\n",
       "      <td>EAE_ACE05</td>\n",
       "      <td>EAE_RAMS</td>\n",
       "      <td>EE_ACE05</td>\n",
       "    </tr>\n",
       "    <tr>\n",
       "      <th>1</th>\n",
       "      <td>90.7</td>\n",
       "      <td>90.47</td>\n",
       "      <td>93.57</td>\n",
       "      <td>84.43</td>\n",
       "      <td>88.96</td>\n",
       "      <td>85.29</td>\n",
       "      <td>55.32</td>\n",
       "      <td>70.11</td>\n",
       "      <td>81.02</td>\n",
       "      <td>72.47</td>\n",
       "      <td>51.43</td>\n",
       "      <td>72.67</td>\n",
       "    </tr>\n",
       "  </tbody>\n",
       "</table>\n",
       "</div>"
      ],
      "text/plain": [
       "             5           6            7          8                9   \\\n",
       "task  NER_ACE05  NER_BC5CDR  NER_CoNLL03  NER_DIANN  NER_NCBIDisease   \n",
       "1          90.7       90.47        93.57      84.43            88.96   \n",
       "\n",
       "                  10            11        3           4          0         1   \\\n",
       "task  NER_OntoNotes5  NER_WNUT2017  RE_ACE05  RE_CoNLL04  EAE_ACE05  EAE_RAMS   \n",
       "1              85.29         55.32     70.11       81.02      72.47     51.43   \n",
       "\n",
       "            2   \n",
       "task  EE_ACE05  \n",
       "1        72.67  "
      ]
     },
     "execution_count": 16,
     "metadata": {},
     "output_type": "execute_result"
    }
   ],
   "source": [
    "import glob\n",
    "import pandas as pd\n",
    "\n",
    "name = \"mpl_ftq_llama3_8b\"\n",
    "mode = \"main\"\n",
    "\n",
    "path_list = sorted(glob.glob(\"./output/{}/*_output_{}_epoch_*.csv\".format(name, mode)))\n",
    "df_list = [pd.read_csv(p)['mean_score'] for p in path_list]\n",
    "df_concat = pd.concat(df_list, axis=1)\n",
    "df_result = pd.concat([pd.read_csv(path_list[0])['task'], df_concat.max(axis=1)], axis=1)\n",
    "df_result[1] = df_result[0]\n",
    "df_result = df_result.drop(columns=0)\n",
    "\n",
    "df = df_result\n",
    "\n",
    "new_order = [\n",
    "    \"NER_ACE05\", \"NER_BC5CDR\", \"NER_CoNLL03\", \"NER_DIANN\", \"NER_NCBIDisease\", \n",
    "    \"NER_OntoNotes5\", \"NER_WNUT2017\", \"RE_ACE05\", \"RE_CoNLL04\", \"EAE_ACE05\", \"EAE_RAMS\", \"EE_ACE05\"\n",
    "]\n",
    "\n",
    "def map_task_to_order(task_name):\n",
    "    for order in new_order:\n",
    "        if order in task_name:\n",
    "            return order\n",
    "    return None\n",
    "\n",
    "df['order'] = df['task'].apply(map_task_to_order)\n",
    "df = df.sort_values(by='order', key=lambda x: x.map({v: i for i, v in enumerate(new_order)}))\n",
    "df = df.drop(columns=['order'])\n",
    "\n",
    "print(\"Name:\", name, \":\", round(df[1].mean(), 2))\n",
    "df.T"
   ]
  }
 ],
 "metadata": {
  "kernelspec": {
   "display_name": "Python 3 (ipykernel)",
   "language": "python",
   "name": "python3"
  },
  "language_info": {
   "codemirror_mode": {
    "name": "ipython",
    "version": 3
   },
   "file_extension": ".py",
   "mimetype": "text/x-python",
   "name": "python",
   "nbconvert_exporter": "python",
   "pygments_lexer": "ipython3",
   "version": "3.11.5"
  }
 },
 "nbformat": 4,
 "nbformat_minor": 5
}

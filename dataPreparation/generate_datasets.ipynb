{
 "cells": [
  {
   "cell_type": "markdown",
   "id": "9ead8d05-e177-4d1a-bee7-d23bed6d11fb",
   "metadata": {},
   "source": [
    "### 组合数据"
   ]
  },
  {
   "cell_type": "code",
   "execution_count": 1,
   "id": "e09c397a-561a-4077-b1ac-78ba580a7893",
   "metadata": {},
   "outputs": [
    {
     "data": {
      "text/plain": [
       "['EAE_ACE05',\n",
       " 'EAE_RAMS',\n",
       " 'EE_ACE05',\n",
       " 'NER_ACE05',\n",
       " 'NER_BC5CDR',\n",
       " 'NER_CoNLL03',\n",
       " 'NER_DIANN',\n",
       " 'NER_NCBIDisease',\n",
       " 'NER_OntoNotes5',\n",
       " 'NER_WNUT2017',\n",
       " 'RE_ACE05',\n",
       " 'RE_CoNLL04']"
      ]
     },
     "execution_count": 1,
     "metadata": {},
     "output_type": "execute_result"
    }
   ],
   "source": [
    "import os\n",
    "sorted(os.listdir('./Formatted'))"
   ]
  },
  {
   "cell_type": "code",
   "execution_count": 1,
   "id": "79d42c53-acab-4f26-a3e1-03dd6d87711d",
   "metadata": {},
   "outputs": [
    {
     "data": {
      "application/vnd.jupyter.widget-view+json": {
       "model_id": "f53d28f2e30b4245ab52939252897e62",
       "version_major": 2,
       "version_minor": 0
      },
      "text/plain": [
       "EAE_ACE05:   0%|          | 0/13257 [00:00<?, ?it/s]"
      ]
     },
     "metadata": {},
     "output_type": "display_data"
    },
    {
     "data": {
      "application/vnd.jupyter.widget-view+json": {
       "model_id": "5f93ebc9db0444fb8b62079e7cf6a525",
       "version_major": 2,
       "version_minor": 0
      },
      "text/plain": [
       "EAE_RAMS:   0%|          | 0/21987 [00:00<?, ?it/s]"
      ]
     },
     "metadata": {},
     "output_type": "display_data"
    },
    {
     "data": {
      "application/vnd.jupyter.widget-view+json": {
       "model_id": "00ca38102aa4498e9d324b487557c570",
       "version_major": 2,
       "version_minor": 0
      },
      "text/plain": [
       "EE_ACE05:   0%|          | 0/57612 [00:00<?, ?it/s]"
      ]
     },
     "metadata": {},
     "output_type": "display_data"
    },
    {
     "data": {
      "application/vnd.jupyter.widget-view+json": {
       "model_id": "f65c7c6a07594904b08bad0d3f6c7f3a",
       "version_major": 2,
       "version_minor": 0
      },
      "text/plain": [
       "RE_ACE05:   0%|          | 0/57612 [00:00<?, ?it/s]"
      ]
     },
     "metadata": {},
     "output_type": "display_data"
    },
    {
     "data": {
      "application/vnd.jupyter.widget-view+json": {
       "model_id": "2b4966ed40904ba1aebe2c865b384dc0",
       "version_major": 2,
       "version_minor": 0
      },
      "text/plain": [
       "RE_CoNLL04:   0%|          | 0/2766 [00:00<?, ?it/s]"
      ]
     },
     "metadata": {},
     "output_type": "display_data"
    },
    {
     "data": {
      "application/vnd.jupyter.widget-view+json": {
       "model_id": "aec6d1eee53d43ad9585a60e646a8410",
       "version_major": 2,
       "version_minor": 0
      },
      "text/plain": [
       "NER_ACE05:   0%|          | 0/57612 [00:00<?, ?it/s]"
      ]
     },
     "metadata": {},
     "output_type": "display_data"
    },
    {
     "data": {
      "application/vnd.jupyter.widget-view+json": {
       "model_id": "f50496b20db5487bbfd79c0cb2f62259",
       "version_major": 2,
       "version_minor": 0
      },
      "text/plain": [
       "NER_BC5CDR:   0%|          | 0/13683 [00:00<?, ?it/s]"
      ]
     },
     "metadata": {},
     "output_type": "display_data"
    },
    {
     "data": {
      "application/vnd.jupyter.widget-view+json": {
       "model_id": "74bff54cab7c4e9ea485268e1990a53d",
       "version_major": 2,
       "version_minor": 0
      },
      "text/plain": [
       "NER_CoNLL03:   0%|          | 0/42123 [00:00<?, ?it/s]"
      ]
     },
     "metadata": {},
     "output_type": "display_data"
    },
    {
     "data": {
      "application/vnd.jupyter.widget-view+json": {
       "model_id": "d608c8f9bc9449cf8d27015aaa7160bd",
       "version_major": 2,
       "version_minor": 0
      },
      "text/plain": [
       "NER_DIANN:   0%|          | 0/3411 [00:00<?, ?it/s]"
      ]
     },
     "metadata": {},
     "output_type": "display_data"
    },
    {
     "data": {
      "application/vnd.jupyter.widget-view+json": {
       "model_id": "b04a3d827f004f129b9fb1e099e471d6",
       "version_major": 2,
       "version_minor": 0
      },
      "text/plain": [
       "NER_NCBIDisease:   0%|          | 0/19071 [00:00<?, ?it/s]"
      ]
     },
     "metadata": {},
     "output_type": "display_data"
    },
    {
     "data": {
      "application/vnd.jupyter.widget-view+json": {
       "model_id": "9cd54f0b9ed742cea4c3373ab5a808b7",
       "version_major": 2,
       "version_minor": 0
      },
      "text/plain": [
       "NER_OntoNotes5:   0%|          | 0/90000 [00:00<?, ?it/s]"
      ]
     },
     "metadata": {},
     "output_type": "display_data"
    },
    {
     "data": {
      "application/vnd.jupyter.widget-view+json": {
       "model_id": "4a9d046b394341dfaa4d2a36c9e7dec7",
       "version_major": 2,
       "version_minor": 0
      },
      "text/plain": [
       "NER_WNUT2017:   0%|          | 0/7185 [00:00<?, ?it/s]"
      ]
     },
     "metadata": {},
     "output_type": "display_data"
    }
   ],
   "source": [
    "import pandas as pd\n",
    "from tqdm.notebook import tqdm\n",
    "\n",
    "tasks = ['EAE_ACE05', 'EAE_RAMS', 'EE_ACE05', 'RE_ACE05', 'RE_CoNLL04',\n",
    "         'NER_ACE05', 'NER_BC5CDR', 'NER_CoNLL03', 'NER_DIANN', 'NER_NCBIDisease', 'NER_OntoNotes5', 'NER_WNUT2017']\n",
    "\n",
    "output_list = list()\n",
    "for t in tasks:\n",
    "    df = pd.read_json(\"./Formatted/{}/train.jsonl\".format(t), lines=True)\n",
    "    for _, row in tqdm(df.iterrows(), desc=t, total=df.shape[0]):\n",
    "        output_list.append({\n",
    "            \"dataset\": t,\n",
    "            \"id\": \"{}_{}\".format(row['language'], row['idx']),\n",
    "            \"messages\": [\n",
    "                {\"role\": \"user\", \"content\": row['prompt_in'].strip(\"\\n\")},\n",
    "                {\"role\": \"assistant\", \"content\": row['prompt_ot'].strip(\"\\n\")}\n",
    "            ]\n",
    "        })"
   ]
  },
  {
   "cell_type": "code",
   "execution_count": 2,
   "id": "80e97336-c304-444a-ab28-6e3fb8cef6a5",
   "metadata": {},
   "outputs": [
    {
     "data": {
      "application/vnd.jupyter.widget-view+json": {
       "model_id": "142bc1f5245541cdb2a3f904ab84326b",
       "version_major": 2,
       "version_minor": 0
      },
      "text/plain": [
       "  0%|          | 0/386319 [00:00<?, ?it/s]"
      ]
     },
     "metadata": {},
     "output_type": "display_data"
    }
   ],
   "source": [
    "import json\n",
    "\n",
    "name = \"mpl_train_all\"\n",
    "with open(\"../dataTrain/{}.jsonl\".format(name), 'w') as f:\n",
    "    for line in tqdm(output_list):\n",
    "        f.write(json.dumps(line) + \"\\n\")"
   ]
  }
 ],
 "metadata": {
  "kernelspec": {
   "display_name": "Python 3 (ipykernel)",
   "language": "python",
   "name": "python3"
  },
  "language_info": {
   "codemirror_mode": {
    "name": "ipython",
    "version": 3
   },
   "file_extension": ".py",
   "mimetype": "text/x-python",
   "name": "python",
   "nbconvert_exporter": "python",
   "pygments_lexer": "ipython3",
   "version": "3.11.5"
  }
 },
 "nbformat": 4,
 "nbformat_minor": 5
}
